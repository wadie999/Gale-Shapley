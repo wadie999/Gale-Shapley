{
 "cells": [
  {
   "cell_type": "code",
   "execution_count": 3,
   "id": "2c72ce17",
   "metadata": {},
   "outputs": [],
   "source": [
    "import random\n",
    "from itertools import permutations"
   ]
  },
  {
   "cell_type": "code",
   "execution_count": 4,
   "id": "9d437c1b",
   "metadata": {},
   "outputs": [],
   "source": [
    "def extract_instance_from_file(file):\n",
    "    D_agences={}\n",
    "    D_candidats={}\n",
    "    with open(file,\"r\",encoding=\"utf8\") as f:\n",
    "            n = int(next(f))\n",
    "            for _ in range(n):\n",
    "                line = next(f)\n",
    "                line_list= line.strip().split(\":\")\n",
    "                D_agences[line_list[0]] = line_list[1:]\n",
    "                \n",
    "            for _ in range(n):\n",
    "                line = next(f)\n",
    "                line_list= line.strip().split(\":\")\n",
    "                D_candidats[line_list[0]] = line_list[1:]       \n",
    "    return n,D_agences,D_candidats  "
   ]
  },
  {
   "cell_type": "code",
   "execution_count": 5,
   "id": "a1eac599",
   "metadata": {},
   "outputs": [
    {
     "data": {
      "text/plain": [
       "(5,\n",
       " {'A1': ['C3', 'C2', 'C5', 'C4', 'C1'],\n",
       "  'A2': ['C1', 'C3', 'C2', 'C5', 'C4'],\n",
       "  'A3': ['C4', 'C5', 'C2', 'C1', 'C3'],\n",
       "  'A4': ['C3', 'C4', 'C2', 'C5', 'C1'],\n",
       "  'A5': ['C5', 'C4', 'C2', 'C1', 'C3']},\n",
       " {'C1': ['A3', 'A5', 'A1', 'A2', 'A4'],\n",
       "  'C2': ['A5', 'A1', 'A3', 'A4', 'A2'],\n",
       "  'C3': ['A3', 'A5', 'A1', 'A4', 'A2'],\n",
       "  'C4': ['A4', 'A3', 'A2', 'A5', 'A1'],\n",
       "  'C5': ['A5', 'A3', 'A4', 'A2', 'A1']})"
      ]
     },
     "execution_count": 5,
     "metadata": {},
     "output_type": "execute_result"
    }
   ],
   "source": [
    "extract_instance_from_file('stable.txt')"
   ]
  },
  {
   "cell_type": "code",
   "execution_count": 6,
   "id": "1f16ad0e",
   "metadata": {},
   "outputs": [],
   "source": [
    "def generate_random_instance(n, version_number=1):\n",
    "     with open(f\"GSentries_rand{n}_{version_number}\",\"w\",encoding=\"utf8\") as f:\n",
    "            f.write(str(n) + \"\\n\")\n",
    "            \n",
    "            list_candidates=[\"C\" + str(x) for x in range(1,n+1)]\n",
    "            for agency in range(1, n+1):\n",
    "                random.shuffle(list_candidates)\n",
    "                f.write(\"A\" + str(agency) + \":\" + \":\".join(list_candidates)+ \"\\n\")\n",
    "                \n",
    "             \n",
    "            list_agencies=[\"A\" + str(x) for x in range(1,n+1)]\n",
    "            for candidate in range(1, n+1):\n",
    "                random.shuffle(list_agencies)\n",
    "                f.write(\"C\" + str(candidate) + \":\" + \":\".join(list_agencies)+ \"\\n\")\n"
   ]
  },
  {
   "cell_type": "code",
   "execution_count": 7,
   "id": "d39080f1",
   "metadata": {},
   "outputs": [],
   "source": [
    "generate_random_instance(6, version_number=1)"
   ]
  },
  {
   "cell_type": "code",
   "execution_count": 10,
   "id": "ac934ecd",
   "metadata": {},
   "outputs": [],
   "source": [
    "def number_of_non_stable_couples(agencies_assign, candidates_assign,\n",
    "                                 agencies_choices, candidates_choices):\n",
    "    \n",
    "    nombre_couple_instable = 0\n",
    "    \n",
    "    for a in agencies_assign.keys():\n",
    "        c = agencies_assign[a]\n",
    "        index_of_c = agencies_choices[a].index(c)\n",
    "        if index_of_c > 0:\n",
    "            liste_potentiel = agencies_choices[a][: index_of_c]\n",
    "            for cand in liste_potentiel:\n",
    "                    agency_of_cand = candidates_assign[cand]\n",
    "                    \n",
    "                    if candidates_choices[cand].index(a) < candidates_choices[cand].index(agency_of_cand):\n",
    "                        nombre_couple_instable+= 1\n",
    "                        \n",
    "    return nombre_couple_instable"
   ]
  },
  {
   "cell_type": "code",
   "execution_count": 11,
   "id": "715bed1e",
   "metadata": {},
   "outputs": [],
   "source": [
    "instance = extract_instance_from_file('stable.txt')\n",
    "n = instance[0]\n",
    "a_assign = { f'A{i}':f'C{i}' for i in range(1,n+1)}\n",
    "c_assign = { f'C{i}':f'A{i}' for i in range(1,n+1)} \n",
    "\n",
    "a_choices = instance[1]\n",
    "c_choices = instance[2]"
   ]
  },
  {
   "cell_type": "code",
   "execution_count": 12,
   "id": "78c71958",
   "metadata": {},
   "outputs": [
    {
     "data": {
      "text/plain": [
       "3"
      ]
     },
     "execution_count": 12,
     "metadata": {},
     "output_type": "execute_result"
    }
   ],
   "source": [
    "number_of_non_stable_couples(a_assign, c_assign, a_choices, c_choices)\n",
    "    "
   ]
  },
  {
   "cell_type": "code",
   "execution_count": 13,
   "id": "29d6a91e",
   "metadata": {},
   "outputs": [],
   "source": [
    "def generate_random_assignment(agencies_choices, candidates_choices):\n",
    "    list_of_candidates=list(candidates_choices.keys())\n",
    "    random.shuffle(list_of_candidates)\n",
    "    \n",
    "    agencies_assignment = { a : c for a,c in zip(agencies_choices.keys(),list_of_candidates)}\n",
    "    candidates_assignment = { c : a for a,c in agencies_assignment.items()}\n",
    "    return agencies_assignment,candidates_assignment"
   ]
  },
  {
   "cell_type": "code",
   "execution_count": 14,
   "id": "4a26c618",
   "metadata": {},
   "outputs": [
    {
     "data": {
      "text/plain": [
       "({'A1': 'C4', 'A2': 'C2', 'A3': 'C5', 'A4': 'C1', 'A5': 'C3'},\n",
       " {'C4': 'A1', 'C2': 'A2', 'C5': 'A3', 'C1': 'A4', 'C3': 'A5'})"
      ]
     },
     "execution_count": 14,
     "metadata": {},
     "output_type": "execute_result"
    }
   ],
   "source": [
    "generate_random_assignment(a_choices, c_choices)"
   ]
  },
  {
   "cell_type": "code",
   "execution_count": 15,
   "id": "213ef6f3",
   "metadata": {},
   "outputs": [],
   "source": [
    "def comptes_assignements(agencies_assignement,agencies_choices):\n",
    "    l = []\n",
    "    for key in agencies_choices.keys():\n",
    "        if agencies_assignement.get(key) == None or agencies_assignement[key] == \"None\":\n",
    "            l.append(key)\n",
    "    return l"
   ]
  },
  {
   "cell_type": "code",
   "execution_count": 16,
   "id": "350c1cb0",
   "metadata": {},
   "outputs": [],
   "source": [
    "def test_dico(dico,correspondance):\n",
    "    return dico.get(correspondance) == None or dico[correspondance] == \"None\"\n"
   ]
  },
  {
   "cell_type": "code",
   "execution_count": 17,
   "id": "619255e5",
   "metadata": {},
   "outputs": [],
   "source": [
    "def gale_shapley_algorithm(agencies_choices, candidates_choices):\n",
    "    # tant qu'il existe une agence qui n'a pas de candidats on continue l'algorithme\n",
    "    # Initialisation d'un dictionnaire d'assignement\n",
    "    agencies_assignement = {}\n",
    "    candidates_assignement = {}\n",
    "    agences_non_assignees = comptes_assignements(agencies_assignement,agencies_choices)\n",
    "    while(len(agences_non_assignees) > 0):\n",
    "        agence_act = agences_non_assignees[0]\n",
    "        l_agence_act = agencies_choices[agence_act]\n",
    "        candidat_act_i = 0\n",
    "        while(test_dico(agencies_assignement, agence_act)):\n",
    "            candidat_act = l_agence_act[candidat_act_i]\n",
    "            if test_dico(candidates_assignement, candidat_act):\n",
    "                agencies_assignement[agence_act] = candidat_act\n",
    "                candidates_assignement[candidat_act] = agence_act\n",
    "            elif candidates_choices[candidat_act].index(agence_act) < candidates_choices[candidat_act].index(candidates_assignement[candidat_act]):\n",
    "                agencies_assignement[candidates_assignement[candidat_act]] = \"None\"\n",
    "                agencies_assignement[agence_act] = candidat_act\n",
    "                candidates_assignement[candidat_act] = agence_act\n",
    "            candidat_act_i += 1\n",
    "        agences_non_assignees = comptes_assignements(agencies_assignement,agencies_choices)\n",
    "\n",
    "    return (agencies_assignement,candidates_assignement)   \n",
    "            "
   ]
  },
  {
   "cell_type": "code",
   "execution_count": 18,
   "id": "9c1c8fea",
   "metadata": {},
   "outputs": [
    {
     "data": {
      "text/plain": [
       "({'A1': 'C3', 'A2': 'C1', 'A3': 'C2', 'A4': 'C4', 'A5': 'C5'},\n",
       " {'C3': 'A1', 'C1': 'A2', 'C4': 'A4', 'C5': 'A5', 'C2': 'A3'})"
      ]
     },
     "execution_count": 18,
     "metadata": {},
     "output_type": "execute_result"
    }
   ],
   "source": [
    "gale_shapley_algorithm(a_choices, c_choices)"
   ]
  },
  {
   "cell_type": "code",
   "execution_count": null,
   "id": "20a3a635",
   "metadata": {},
   "outputs": [],
   "source": []
  }
 ],
 "metadata": {
  "kernelspec": {
   "display_name": "Python 3 (ipykernel)",
   "language": "python",
   "name": "python3"
  },
  "language_info": {
   "codemirror_mode": {
    "name": "ipython",
    "version": 3
   },
   "file_extension": ".py",
   "mimetype": "text/x-python",
   "name": "python",
   "nbconvert_exporter": "python",
   "pygments_lexer": "ipython3",
   "version": "3.11.0rc2"
  }
 },
 "nbformat": 4,
 "nbformat_minor": 5
}
