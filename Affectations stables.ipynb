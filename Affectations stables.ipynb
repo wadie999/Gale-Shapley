{
 "cells": [
  {
   "cell_type": "code",
   "execution_count": 66,
   "id": "2c72ce17",
   "metadata": {},
   "outputs": [],
   "source": [
    "import random"
   ]
  },
  {
   "cell_type": "code",
   "execution_count": 67,
   "id": "9d437c1b",
   "metadata": {},
   "outputs": [],
   "source": [
    "def extract_instance_from_file(file):\n",
    "    D_agences={}\n",
    "    D_candidats={}\n",
    "    with open(file,\"r\",encoding=\"utf8\") as f:\n",
    "            n = int(next(f))\n",
    "            for _ in range(n):\n",
    "                line = next(f)\n",
    "                line_list= line.strip().split(\":\")\n",
    "                D_agences[line_list[0]] = line_list[1:]\n",
    "                \n",
    "            for _ in range(n):\n",
    "                line = next(f)\n",
    "                line_list= line.strip().split(\":\")\n",
    "                D_candidats[line_list[0]] = line_list[1:]       \n",
    "    return n,D_agences,D_candidats  "
   ]
  },
  {
   "cell_type": "code",
   "execution_count": 68,
   "id": "a1eac599",
   "metadata": {},
   "outputs": [
    {
     "data": {
      "text/plain": [
       "(5,\n",
       " {'A1': ['C3', 'C2', 'C5', 'C4', 'C1'],\n",
       "  'A2': ['C1', 'C3', 'C2', 'C5', 'C4'],\n",
       "  'A3': ['C4', 'C5', 'C2', 'C1', 'C3'],\n",
       "  'A4': ['C3', 'C4', 'C2', 'C5', 'C1'],\n",
       "  'A5': ['C5', 'C4', 'C2', 'C1', 'C3']},\n",
       " {'C1': ['A3', 'A5', 'A1', 'A2', 'A4'],\n",
       "  'C2': ['A5', 'A1', 'A3', 'A4', 'A2'],\n",
       "  'C3': ['A3', 'A5', 'A1', 'A4', 'A2'],\n",
       "  'C4': ['A4', 'A3', 'A2', 'A5', 'A1'],\n",
       "  'C5': ['A5', 'A3', 'A4', 'A2', 'A1']})"
      ]
     },
     "execution_count": 68,
     "metadata": {},
     "output_type": "execute_result"
    }
   ],
   "source": [
    "extract_instance_from_file('stable.txt')"
   ]
  },
  {
   "cell_type": "code",
   "execution_count": 86,
   "id": "1f16ad0e",
   "metadata": {},
   "outputs": [],
   "source": [
    "def generate_random_instance(n, version_number=1):\n",
    "     with open(f\"GSentries_rand{n}_{version_number}\",\"w\",encoding=\"utf8\") as f:\n",
    "            f.write(str(n) + \"\\n\")\n",
    "            \n",
    "            list_candidates=[\"C\" + str(x) for x in range(1,n+1)]\n",
    "            for agency in range(1, n+1):\n",
    "                random.shuffle(list_candidates)\n",
    "                f.write(\"A\" + str(agency) + \":\" + \":\".join(list_candidates)+ \"\\n\")\n",
    "                \n",
    "             \n",
    "            list_agencies=[\"A\" + str(x) for x in range(1,n+1)]\n",
    "            for candidate in range(1, n+1):\n",
    "                random.shuffle(list_agencies)\n",
    "                f.write(\"C\" + str(candidate) + \":\" + \":\".join(list_agencies)+ \"\\n\")\n"
   ]
  },
  {
   "cell_type": "code",
   "execution_count": 89,
   "id": "d39080f1",
   "metadata": {},
   "outputs": [],
   "source": [
    "generate_random_instance(6, version_number=1)"
   ]
  },
  {
   "cell_type": "code",
   "execution_count": 99,
   "id": "855085fe",
   "metadata": {},
   "outputs": [
    {
     "data": {
      "text/plain": [
       "{'C1': 'A1', 'C2': 'A2', 'C3': 'A3', 'C4': 'A4', 'C5': 'A5'}"
      ]
     },
     "execution_count": 99,
     "metadata": {},
     "output_type": "execute_result"
    }
   ],
   "source": [
    "candidates_assign "
   ]
  },
  {
   "cell_type": "code",
   "execution_count": 100,
   "id": "6227ec74",
   "metadata": {},
   "outputs": [
    {
     "data": {
      "text/plain": [
       "{'A1': 'C1', 'A2': 'C2', 'A3': 'C3', 'A4': 'C4', 'A5': 'C5'}"
      ]
     },
     "execution_count": 100,
     "metadata": {},
     "output_type": "execute_result"
    }
   ],
   "source": [
    "agencies_assign"
   ]
  },
  {
   "cell_type": "code",
   "execution_count": 111,
   "id": "ac934ecd",
   "metadata": {},
   "outputs": [],
   "source": [
    "def number_of_non_stable_couples(agencies_assign, candidates_assign,\n",
    "                                 agencies_choices, candidates_choices):\n",
    "    \n",
    "    nombre_couple_instable = 0\n",
    "    \n",
    "    for a in agencies_assign.keys():\n",
    "        c = agencies_assign[a]\n",
    "        index_of_c = agencies_choices[a].index(c)\n",
    "        if index_of_c > 0:\n",
    "            liste_potentiel = agencies_choices[a][: index_of_c]\n",
    "            for cand in liste_potentiel:\n",
    "                    agency_of_cand = candidates_assign[cand]\n",
    "                    \n",
    "                    if candidates_choices[cand].index(a) < candidates_choices[cand].index(agency_of_cand):\n",
    "                        nombre_couple_instable+= 1\n",
    "                        \n",
    "    return nombre_couple_instable"
   ]
  },
  {
   "cell_type": "code",
   "execution_count": 112,
   "id": "715bed1e",
   "metadata": {},
   "outputs": [],
   "source": [
    "instance = extract_instance_from_file('stable.txt')\n",
    "n = instance[0]\n",
    "a_assign = { f'A{i}':f'C{i}' for i in range(1,n+1)}\n",
    "c_assign = { f'C{i}':f'A{i}' for i in range(1,n+1)} \n",
    "\n",
    "a_choices = instance[1]\n",
    "c_choices = instance[2]"
   ]
  },
  {
   "cell_type": "code",
   "execution_count": 113,
   "id": "78c71958",
   "metadata": {},
   "outputs": [
    {
     "data": {
      "text/plain": [
       "3"
      ]
     },
     "execution_count": 113,
     "metadata": {},
     "output_type": "execute_result"
    }
   ],
   "source": [
    "number_of_non_stable_couples(a_assign, c_assign, a_choices, c_choices)\n",
    "    "
   ]
  },
  {
   "cell_type": "code",
   "execution_count": 118,
   "id": "29d6a91e",
   "metadata": {},
   "outputs": [],
   "source": [
    "def generate_random_assignment(agencies_choices, candidates_choices):\n",
    "    list_of_candidates=list(candidates_choices.keys())\n",
    "    random.shuffle(list_of_candidates)\n",
    "    \n",
    "    agencies_assignment = { a : c for a,c in zip(agencies_choices.keys(),list_of_candidates)}\n",
    "    candidates_assignment = { c : a for a,c in agencies_assignment.items()}\n",
    "    return agencies_assignment,candidates_assignment"
   ]
  },
  {
   "cell_type": "code",
   "execution_count": 119,
   "id": "4a26c618",
   "metadata": {},
   "outputs": [
    {
     "data": {
      "text/plain": [
       "({'A1': 'C4', 'A2': 'C1', 'A3': 'C2', 'A4': 'C5', 'A5': 'C3'},\n",
       " {'C4': 'A1', 'C1': 'A2', 'C2': 'A3', 'C5': 'A4', 'C3': 'A5'})"
      ]
     },
     "execution_count": 119,
     "metadata": {},
     "output_type": "execute_result"
    }
   ],
   "source": [
    "generate_random_assignment(a_choices, c_choices)"
   ]
  },
  {
   "cell_type": "code",
   "execution_count": 120,
   "id": "619255e5",
   "metadata": {},
   "outputs": [],
   "source": [
    "def gale_shapley_algorithm(agencies_choices, candidates_choices):\n",
    "    # tant qu'il existe une agence qui n'a pas de candidats on continue l'algorithme\n",
    "    # Initialisation d'un dictionnaire d'assignement\n",
    "    D_agencies = {} \n",
    "    for agence in agencies_choices.keys():\n",
    "        D_agencies[agence]=None\n",
    "    \n",
    "    for agence in D_agencies:\n",
    "        if D_agencies[agence]== None:\n",
    "            for candidate in agencies_choices[agence] :\n",
    "                \n",
    "            \n",
    "            \n",
    "            "
   ]
  },
  {
   "cell_type": "code",
   "execution_count": 121,
   "id": "9c1c8fea",
   "metadata": {},
   "outputs": [],
   "source": [
    "gale_shapley_algorithm(a_choices, c_choices)"
   ]
  }
 ],
 "metadata": {
  "kernelspec": {
   "display_name": "Python 3 (ipykernel)",
   "language": "python",
   "name": "python3"
  },
  "language_info": {
   "codemirror_mode": {
    "name": "ipython",
    "version": 3
   },
   "file_extension": ".py",
   "mimetype": "text/x-python",
   "name": "python",
   "nbconvert_exporter": "python",
   "pygments_lexer": "ipython3",
   "version": "3.11.0rc2"
  }
 },
 "nbformat": 4,
 "nbformat_minor": 5
}
